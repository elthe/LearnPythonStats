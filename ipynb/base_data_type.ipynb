{
 "cells": [
  {
   "cell_type": "markdown",
   "metadata": {
    "collapsed": true
   },
   "source": [
    "# 基本类型比较（元组、列表、 集合、 字典）"
   ]
  },
  {
   "cell_type": "code",
   "execution_count": 1,
   "metadata": {
    "collapsed": true
   },
   "outputs": [],
   "source": [
    "txt = 'abcdabc'"
   ]
  },
  {
   "cell_type": "markdown",
   "metadata": {},
   "source": [
    "## 元组\n",
    "\n",
    "* 符号 : <font color='red'>圆括号()</font>\n",
    "* 特点 : <font color='blue'>有序、定长、内容不可变</font>\n",
    "* 使用场景\n",
    " * <font color='green'>字符串格式化</font>\n",
    " * <font color='green'>函数返回多个值</font>\n",
    " * <font color='green'>调用函数时，防止参数被修改</font>\n",
    " * <font color='green'>做字典的Key值</font>"
   ]
  },
  {
   "cell_type": "code",
   "execution_count": 2,
   "metadata": {},
   "outputs": [
    {
     "data": {
      "text/plain": [
       "('a', 'b', 'c', 'd', 'a', 'b', 'c')"
      ]
     },
     "execution_count": 2,
     "metadata": {},
     "output_type": "execute_result"
    }
   ],
   "source": [
    "# 字符串转元组\n",
    "tp1 = tuple(txt)\n",
    "tp1"
   ]
  },
  {
   "cell_type": "markdown",
   "metadata": {},
   "source": [
    "## 列表\n",
    "\n",
    "* 符号 : <font color='red'>方括号[]</font>\n",
    "* 特点 : <font color='blue'>有序、变长、内容可变</font>\n",
    "* 使用场景\n",
    " * <font color='green'>多个数据插入、删除、排序操作</font>"
   ]
  },
  {
   "cell_type": "code",
   "execution_count": 3,
   "metadata": {},
   "outputs": [
    {
     "data": {
      "text/plain": [
       "['a', 'b', 'c', 'd', 'a', 'b', 'c']"
      ]
     },
     "execution_count": 3,
     "metadata": {},
     "output_type": "execute_result"
    }
   ],
   "source": [
    "# 字符串转列表\n",
    "ls1 = list(txt)\n",
    "ls1"
   ]
  },
  {
   "cell_type": "markdown",
   "metadata": {},
   "source": [
    "## 集合\n",
    "\n",
    "* 符号 : <font color='red'>花括号{}</font>\n",
    "* 特点 : <font color='blue'>无序、变长、元素唯一</font>\n",
    "* 使用场景\n",
    " * <font color='green'>数据集合的并集、交集、差集、异或操作</font>"
   ]
  },
  {
   "cell_type": "code",
   "execution_count": 4,
   "metadata": {},
   "outputs": [
    {
     "data": {
      "text/plain": [
       "{'a', 'b', 'c', 'd'}"
      ]
     },
     "execution_count": 4,
     "metadata": {},
     "output_type": "execute_result"
    }
   ],
   "source": [
    "# 字符串转集合（自动剔除重复项）\n",
    "st1 = set(txt)\n",
    "st1"
   ]
  },
  {
   "cell_type": "markdown",
   "metadata": {},
   "source": [
    "## 字典\n",
    "\n",
    "* 符号 : <font color='red'>花括号{}</font>\n",
    "* 特点 : <font color='blue'>无序、变长、键不可变、内容可变</font>\n",
    "* 使用场景\n",
    " * <font color='green'>哈希表，关联数组的应用</font>"
   ]
  },
  {
   "cell_type": "code",
   "execution_count": 5,
   "metadata": {},
   "outputs": [
    {
     "name": "stdout",
     "output_type": "stream",
     "text": [
      "{'c': 0, 'd': 1, 'a': 2, 'b': 3}\n",
      "{'c': 2, 'd': 1, 'a': 2, 'b': 2}\n"
     ]
    }
   ],
   "source": [
    "# 把两个列表转成字典 （值为字母索引）\n",
    "dt1 = dict(zip(list(st1), range(len(st1))))\n",
    "print(dt1)\n",
    "\n",
    "# 使用字典推导式 (值为字母出现次数)\n",
    "dt11 = {val:ls1.count(val) for index,val in enumerate(st1)}\n",
    "print(dt11)"
   ]
  },
  {
   "cell_type": "markdown",
   "metadata": {},
   "source": [
    "## 比较 : 取值"
   ]
  },
  {
   "cell_type": "code",
   "execution_count": 6,
   "metadata": {},
   "outputs": [
    {
     "name": "stdout",
     "output_type": "stream",
     "text": [
      "元组：tp1[0] = a\n",
      "列表：ls1[0] = a\n",
      "集合：list(st1)[0] = c\n",
      "字典：dt1[\"d\"] = 1\n"
     ]
    }
   ],
   "source": [
    "print('元组：tp1[0] = %s' % tp1[0])\n",
    "print('列表：ls1[0] = %s' % ls1[0])\n",
    "print('集合：list(st1)[0] = %s' % list(st1)[0])\n",
    "print('字典：dt1[\"d\"] = %s' % dt1['d'])"
   ]
  },
  {
   "cell_type": "markdown",
   "metadata": {},
   "source": [
    "## 比较 : 取长度"
   ]
  },
  {
   "cell_type": "code",
   "execution_count": 7,
   "metadata": {},
   "outputs": [
    {
     "name": "stdout",
     "output_type": "stream",
     "text": [
      "元组：len(tp1) = 7\n",
      "列表：len(ls1) = 7\n",
      "集合：len(st1) = 4\n",
      "字典：len(dt1) = 4\n"
     ]
    }
   ],
   "source": [
    "print('元组：len(tp1) = %d' % len(tp1))\n",
    "print('列表：len(ls1) = %d' % len(ls1))\n",
    "print('集合：len(st1) = %d' % len(st1))\n",
    "print('字典：len(dt1) = %d' % len(dt1))"
   ]
  },
  {
   "cell_type": "markdown",
   "metadata": {},
   "source": [
    "## 比较 : 存在判断"
   ]
  },
  {
   "cell_type": "code",
   "execution_count": 8,
   "metadata": {},
   "outputs": [
    {
     "name": "stdout",
     "output_type": "stream",
     "text": [
      "元组：'a' in tp1 = True\n",
      "列表：'a' in ls1 = True\n",
      "集合：'a' in st1 = True\n",
      "字典：'a' in dt1 = True\n"
     ]
    }
   ],
   "source": [
    "print(\"元组：'a' in tp1 = %s\" % ('a' in tp1))\n",
    "print(\"列表：'a' in ls1 = %s\" % ('a' in ls1))\n",
    "print(\"集合：'a' in st1 = %s\" % ('a' in st1))\n",
    "print(\"字典：'a' in dt1 = %s\" % ('a' in dt1))"
   ]
  },
  {
   "cell_type": "markdown",
   "metadata": {},
   "source": [
    "## 比较 : 切片"
   ]
  },
  {
   "cell_type": "code",
   "execution_count": 9,
   "metadata": {},
   "outputs": [
    {
     "name": "stdout",
     "output_type": "stream",
     "text": [
      "('b', 'c')\n",
      "['b', 'c']\n",
      "{'d', 'a'}\n",
      "{'d': 1, 'a': 2}\n"
     ]
    }
   ],
   "source": [
    "# 元组\n",
    "tp2 = tp1[1:3]\n",
    "print(tp2)\n",
    "\n",
    "# 列表\n",
    "ls2 = ls1[1:3]\n",
    "print(ls2)\n",
    "\n",
    "# 集合 -- 转成列表实现切片\n",
    "st2 = set(list(st1)[1:3])\n",
    "print(st2)\n",
    "\n",
    "# 字典 -- 对键值列表切片后，使用推导式\n",
    "dt2 = {k:v for k,v in dt1.items() if k in list(dt1.keys())[1:3]}\n",
    "print(dt2)"
   ]
  },
  {
   "cell_type": "markdown",
   "metadata": {},
   "source": [
    "## 比较 : 添加元素"
   ]
  },
  {
   "cell_type": "code",
   "execution_count": 10,
   "metadata": {},
   "outputs": [
    {
     "name": "stdout",
     "output_type": "stream",
     "text": [
      "('a', 'b', 'c', 'd', 'a', 'b', 'c', 'a', 'b', 'c', 'd', 'a', 'b', 'c')\n",
      "False\n",
      "('a', 'b', 'c', 'd', 'a', 'b', 'c', 'x', 'y', 'z')\n",
      "False\n"
     ]
    }
   ],
   "source": [
    "# 元组的翻倍，生成新的元组\n",
    "tp3 = tp1 * 2\n",
    "print(tp3)\n",
    "print(tp3 is tp1)\n",
    "\n",
    "# 元组的叠加，生成新的元组\n",
    "tp4 = tp1 + tuple('xyz')\n",
    "print(tp4)\n",
    "print(tp4 is tp1)"
   ]
  },
  {
   "cell_type": "code",
   "execution_count": 11,
   "metadata": {},
   "outputs": [
    {
     "name": "stdout",
     "output_type": "stream",
     "text": [
      "['a', 'b', 'c', 'd', 'a', 'b', 'c', 'a', 'b', 'c', 'd', 'a', 'b', 'c']\n",
      "False\n",
      "['a', 'b', 'c', 'd', 'a', 'b', 'c', 'x', 'y', 'z']\n",
      "False\n",
      "['a', 'b', 'c', 'd', 'a', 'b', 'c', 'x', 'y', 'z']\n",
      "['a', 't', 'b', 'c', 'd', 'a', 'b', 'c', 'x', 'y', 'z']\n",
      "['a', 't', 'b', 'c', 'd', 'a', 'b', 'c', 'x', 'y', 'z', 'k']\n"
     ]
    }
   ],
   "source": [
    "# 列表翻倍，生成新列表\n",
    "ls1 = list(txt)\n",
    "ls3 = ls1 * 2\n",
    "print(ls3)\n",
    "print(ls3 is ls1)\n",
    "\n",
    "# 列表叠加，生成新列表\n",
    "ls4 = ls1 + list('xyz')\n",
    "print(ls4)\n",
    "print(ls4 is ls1)\n",
    "\n",
    "# 列表扩展，修改自身\n",
    "ls1.extend(list('xyz'))\n",
    "print(ls1)\n",
    "\n",
    "# 列表插入，修改自身\n",
    "ls1.insert(1, 't')\n",
    "print(ls1)\n",
    "\n",
    "# 列表末尾插入，修改自身\n",
    "ls1.append('k')\n",
    "print(ls1)"
   ]
  },
  {
   "cell_type": "code",
   "execution_count": 12,
   "metadata": {},
   "outputs": [
    {
     "name": "stdout",
     "output_type": "stream",
     "text": [
      "{'d', 'c', 'a', 'x', 'z', 'b', 'y'}\n",
      "False\n",
      "{'d', 'c', 'a', 'x', 'z', 'b', 'y'}\n",
      "False\n",
      "{'d', 'c', 'x', 'b', 'a'}\n"
     ]
    }
   ],
   "source": [
    "# 集合合并，生成新的集合\n",
    "st4 = st1 | set('xyz')\n",
    "print(st4)\n",
    "print(st4 is st1)\n",
    "# 集合合并，生成新的集合\n",
    "st5 = st1.union(set('xyz'))\n",
    "print(st5)\n",
    "print(st5 is st1)\n",
    "\n",
    "# 集合添加元素\n",
    "st1.add('x')\n",
    "print(st1)"
   ]
  },
  {
   "cell_type": "code",
   "execution_count": 13,
   "metadata": {
    "scrolled": true
   },
   "outputs": [
    {
     "name": "stdout",
     "output_type": "stream",
     "text": [
      "{'c': 0, 'd': 1, 'a': 2, 'b': 3}\n",
      "{'c': 0, 'd': 1, 'a': 2, 'b': 3, 'x': 5}\n",
      "{'c': 0, 'd': 1, 'a': 2, 'b': 3, 'x': 2, 'y': 4, 'z': 2}\n"
     ]
    }
   ],
   "source": [
    "# 字典插入新值，修改自身\n",
    "print(dt1)\n",
    "dt1['x'] = 5\n",
    "print(dt1)\n",
    "\n",
    "# 字典合并\n",
    "dt1.update({'x':2, 'y':4, 'z':2})\n",
    "print(dt1)"
   ]
  },
  {
   "cell_type": "markdown",
   "metadata": {},
   "source": [
    "## 比较 ： 删除元素"
   ]
  },
  {
   "cell_type": "code",
   "execution_count": 14,
   "metadata": {},
   "outputs": [
    {
     "name": "stdout",
     "output_type": "stream",
     "text": [
      "['a', 'b', 'c', 'd', 'a', 'b', 'c']\n",
      "None\n",
      "['b', 'c', 'd', 'a', 'b', 'c']\n",
      "None\n",
      "['b', 'c', 'd', 'b', 'c']\n",
      "d\n",
      "['b', 'c', 'b', 'c']\n"
     ]
    }
   ],
   "source": [
    "# 元组无法删除元素\n",
    "\n",
    "# 数组删除，修改自身\n",
    "ls1=list(txt)\n",
    "print(ls1)\n",
    "# 找到第一个符合要求的值并从列表中删除\n",
    "print(ls1.remove('a'))\n",
    "print(ls1)\n",
    "print(ls1.remove('a'))\n",
    "print(ls1)\n",
    "\n",
    "# 删除指定位置的元素，修改自身\n",
    "print(ls1.pop(2))\n",
    "print(ls1)"
   ]
  },
  {
   "cell_type": "code",
   "execution_count": 15,
   "metadata": {},
   "outputs": [
    {
     "name": "stdout",
     "output_type": "stream",
     "text": [
      "{'c', 'd', 'a', 'b'}\n",
      "{'c', 'd', 'b'}\n"
     ]
    }
   ],
   "source": [
    "# 集合删除元素, 修改自身\n",
    "st1 = set(txt)\n",
    "print(st1)\n",
    "\n",
    "st1.remove('a')\n",
    "print(st1)"
   ]
  },
  {
   "cell_type": "code",
   "execution_count": 16,
   "metadata": {},
   "outputs": [
    {
     "name": "stdout",
     "output_type": "stream",
     "text": [
      "{'c': 2, 'd': 1, 'a': 2, 'b': 2}\n",
      "2\n",
      "{'c': 2, 'd': 1, 'b': 2}\n",
      "{'c': 2, 'd': 1}\n"
     ]
    }
   ],
   "source": [
    "# 字典删除元素，修改自身\n",
    "dt3 = dt11.copy()\n",
    "print(dt3)\n",
    "\n",
    "print(dt3.pop('a'))\n",
    "print(dt3)\n",
    "\n",
    "del dt3['b']\n",
    "print(dt3)"
   ]
  }
 ],
 "metadata": {
  "kernelspec": {
   "display_name": "Python 3",
   "language": "python",
   "name": "python3"
  },
  "language_info": {
   "codemirror_mode": {
    "name": "ipython",
    "version": 3.0
   },
   "file_extension": ".py",
   "mimetype": "text/x-python",
   "name": "python",
   "nbconvert_exporter": "python",
   "pygments_lexer": "ipython3",
   "version": "3.6.3"
  }
 },
 "nbformat": 4,
 "nbformat_minor": 0
}