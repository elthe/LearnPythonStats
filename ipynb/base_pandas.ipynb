{
 "cells": [
  {
   "cell_type": "markdown",
   "metadata": {
    "collapsed": true
   },
   "source": [
    "# Pandas 基础操作"
   ]
  },
  {
   "cell_type": "markdown",
   "metadata": {
    "collapsed": true
   },
   "source": [
    "## Series\n",
    "* 同时具备列表和字典的功能。\n",
    " * 使用默认索引时，具备列表的功能。\n",
    " * 使用文字索引时，具有字典的功能。\n",
    "* 最重要的功能：运算的时候自动对齐\n",
    " * 对齐的依据：索引。"
   ]
  },
  {
   "cell_type": "code",
   "execution_count": 1,
   "metadata": {
    "collapsed": true
   },
   "outputs": [],
   "source": [
    "import numpy as np\n",
    "import pandas as pd\n",
    "\n",
    "from pandas import Series, DataFrame"
   ]
  },
  {
   "cell_type": "code",
   "execution_count": 2,
   "metadata": {},
   "outputs": [
    {
     "name": "stdout",
     "output_type": "stream",
     "text": [
      "['a', 'b', 'c', 'd', 'a', 'b', 'c']\n",
      "0    a\n",
      "1    b\n",
      "2    c\n",
      "3    d\n",
      "4    a\n",
      "5    b\n",
      "6    c\n",
      "dtype: object\n",
      "RangeIndex(start=0, stop=7, step=1)\n",
      "['a' 'b' 'c' 'd' 'a' 'b' 'c']\n"
     ]
    }
   ],
   "source": [
    "# 列表转Series\n",
    "ls1 = list('abcdabc')\n",
    "print(ls1)\n",
    "# 不指定索引时，自动创建0～N-1的整数索引\n",
    "sr1 = Series(ls1)\n",
    "print(sr1)\n",
    "# 索引\n",
    "print(sr1.index)\n",
    "# 值\n",
    "print(sr1.values)"
   ]
  },
  {
   "cell_type": "code",
   "execution_count": 3,
   "metadata": {
    "scrolled": true
   },
   "outputs": [
    {
     "name": "stdout",
     "output_type": "stream",
     "text": [
      "a     1\n",
      "b     4\n",
      "c     9\n",
      "d    16\n",
      "dtype: int64\n",
      "sr2['a'] = 1\n",
      "a    10\n",
      "b    10\n",
      "c     9\n",
      "d    16\n",
      "dtype: int64\n",
      "b    10\n",
      "d    16\n",
      "dtype: int64\n",
      "a    10\n",
      "b    10\n",
      "dtype: int64\n"
     ]
    }
   ],
   "source": [
    "# 指定索引创建Series\n",
    "sr2 = Series([1, 4, 9, 16], index=list('abcd'))\n",
    "print(sr2)\n",
    "\n",
    "# 索引取值\n",
    "print(\"sr2['a'] = %d\" % sr2['a'])\n",
    "\n",
    "# 设置多个索引的值\n",
    "sr2['a','b'] = 10\n",
    "print(sr2)\n",
    "\n",
    "# 选取部分索引，做成新的Series\n",
    "print(sr2[list('bd')])\n",
    "\n",
    "# 使用Where条件选取部分，所称新的Series\n",
    "print(sr2[sr2 == 10])"
   ]
  },
  {
   "cell_type": "code",
   "execution_count": 15,
   "metadata": {
    "scrolled": false
   },
   "outputs": [
    {
     "name": "stdout",
     "output_type": "stream",
     "text": [
      "a    12\n",
      "b    34\n",
      "c    56\n",
      "dtype: int64\n",
      "a    12\n",
      "b    34\n",
      "dtype: int64\n",
      "b    34\n",
      "c    56\n",
      "dtype: int64\n"
     ]
    }
   ],
   "source": [
    "# 用字典创建序列\n",
    "sdata = {'a':12, 'b':34, 'c':56}\n",
    "sd1 = Series(sdata)\n",
    "print(sd1)\n",
    "\n",
    "# 切片：指定范围\n",
    "sd2 = sd1['a':'b']\n",
    "print(sd2)\n",
    "\n",
    "# 切片：指定条件\n",
    "sd3 = sd1[sd1 > 30]\n",
    "print(sd3)"
   ]
  },
  {
   "cell_type": "code",
   "execution_count": 5,
   "metadata": {},
   "outputs": [
    {
     "name": "stdout",
     "output_type": "stream",
     "text": [
      "a    10\n",
      "b    10\n",
      "c     9\n",
      "d    16\n",
      "dtype: int64\n",
      "a    2.0\n",
      "b    2.0\n",
      "c    1.9\n",
      "d    2.6\n",
      "dtype: float64\n",
      "a     7.389056\n",
      "b     7.389056\n",
      "c     6.685894\n",
      "d    13.463738\n",
      "dtype: float64\n",
      "a    0.693147\n",
      "b    0.693147\n",
      "c    0.641854\n",
      "d    0.955511\n",
      "dtype: float64\n"
     ]
    }
   ],
   "source": [
    "# 计算\n",
    "sr3 = sr2.copy()\n",
    "print(sr3)\n",
    "\n",
    "# 四则计算\n",
    "sr4 = sr3 * 0.1 + 1\n",
    "print(sr4)\n",
    "\n",
    "# 指数运算\n",
    "sr5 = np.exp(sr4)\n",
    "print(sr5)\n",
    "\n",
    "# 对数运算\n",
    "sr6 = np.log(sr4)\n",
    "print(sr6)"
   ]
  },
  {
   "cell_type": "code",
   "execution_count": 6,
   "metadata": {},
   "outputs": [
    {
     "name": "stdout",
     "output_type": "stream",
     "text": [
      "a    False\n",
      "b    False\n",
      "c    False\n",
      "d    False\n",
      "dtype: bool\n",
      "a    True\n",
      "b    True\n",
      "c    True\n",
      "d    True\n",
      "dtype: bool\n"
     ]
    }
   ],
   "source": [
    "# 为空判断\n",
    "sn1 = pd.isnull(sr6)\n",
    "print(sn1)\n",
    "\n",
    "# 非空判断\n",
    "sn2 = pd.notnull(sr6)\n",
    "print(sn2)"
   ]
  },
  {
   "cell_type": "code",
   "execution_count": 7,
   "metadata": {},
   "outputs": [
    {
     "name": "stdout",
     "output_type": "stream",
     "text": [
      "a    10\n",
      "b    10\n",
      "c     9\n",
      "d    16\n",
      "dtype: int64\n",
      "a    10\n",
      "b    10\n",
      "c     9\n",
      "d    16\n",
      "Name: Money, dtype: int64\n",
      "A    10\n",
      "B    10\n",
      "C     9\n",
      "D    16\n",
      "Name: Money, dtype: int64\n"
     ]
    }
   ],
   "source": [
    "# 修改名称和索引\n",
    "sr7 = sr2.copy()\n",
    "print(sr7)\n",
    "\n",
    "# 修改名称\n",
    "sr7.name = 'Money'\n",
    "print(sr7)\n",
    "\n",
    "# 修改索引\n",
    "sr7.index = ['A', 'B', 'C', 'D']\n",
    "print(sr7)\n"
   ]
  },
  {
   "cell_type": "code",
   "execution_count": 8,
   "metadata": {},
   "outputs": [
    {
     "name": "stdout",
     "output_type": "stream",
     "text": [
      "a    1\n",
      "b    2\n",
      "dtype: int64\n",
      "b    8\n",
      "c    4\n",
      "dtype: int64\n",
      "a     NaN\n",
      "b    10.0\n",
      "c     NaN\n",
      "dtype: float64\n"
     ]
    }
   ],
   "source": [
    "# Series相加\n",
    "sr81 = Series({'a':1, 'b':2})\n",
    "print(sr81)\n",
    "sr82 = Series({'b':8, 'c':4})\n",
    "print(sr82)\n",
    "# 不同索引扩展合并，相同索引相加\n",
    "sr83 = sr81 + sr82\n",
    "print(sr83)"
   ]
  },
  {
   "cell_type": "markdown",
   "metadata": {
    "collapsed": true
   },
   "source": [
    "## DataFrame\n",
    "* 表格型数据结构\n",
    " * 同时具有行索引，列索引\n",
    " * 行和列都可以作为一个Series取出"
   ]
  },
  {
   "cell_type": "code",
   "execution_count": 9,
   "metadata": {
    "scrolled": true
   },
   "outputs": [
    {
     "name": "stdout",
     "output_type": "stream",
     "text": [
      "   aa   bb    cc     dd\n",
      "0   1  1.1  1.11  1.111\n",
      "1   2  2.2  2.22  2.222\n",
      "2   3  3.3  3.33  3.333\n",
      "3   4  4.4  4.44  4.444\n",
      "       aa   bb    cc     dd\n",
      "one     1  1.1  1.11  1.111\n",
      "two     2  2.2  2.22  2.222\n",
      "three   3  3.3  3.33  3.333\n",
      "four    4  4.4  4.44  4.444\n"
     ]
    }
   ],
   "source": [
    "# 字典转DataFrame\n",
    "dt1 = {'aa':[1, 2, 3, 4],\n",
    "       'bb':[1.1, 2.2, 3.3, 4.4],\n",
    "       'cc':[1.11, 2.22, 3.33, 4.44],\n",
    "       'dd':[1.111, 2.222, 3.333, 4.444]}\n",
    "df1 = DataFrame(dt1)\n",
    "print(df1)\n",
    "\n",
    "# 设置索引\n",
    "df1.index = ['one', 'two', 'three', 'four']\n",
    "print(df1)"
   ]
  },
  {
   "cell_type": "code",
   "execution_count": 23,
   "metadata": {},
   "outputs": [
    {
     "name": "stdout",
     "output_type": "stream",
     "text": [
      "       aa   bb\n",
      "one     1  1.1\n",
      "two     2  2.2\n",
      "three   3  3.3\n",
      "four    4  4.4\n",
      "<class 'pandas.core.frame.DataFrame'>\n",
      "     aa   bb    cc     dd\n",
      "one   1  1.1  1.11  1.111\n",
      "two   2  2.2  2.22  2.222\n",
      "<class 'pandas.core.frame.DataFrame'>\n",
      "     aa   bb    cc     dd\n",
      "one   1  1.1  1.11  1.111\n",
      "two   2  2.2  2.22  2.222\n",
      "       aa   bb    cc     dd\n",
      "three   3  3.3  3.33  3.333\n",
      "four    4  4.4  4.44  4.444\n"
     ]
    }
   ],
   "source": [
    "# 竖向切片，生成新的DataFrame\n",
    "df2 = df1[['aa','bb']]\n",
    "print(df2)\n",
    "print(type(df2))\n",
    "\n",
    "# 横向切片\n",
    "df3 = df1.loc[['one', 'two']]\n",
    "print(df3)\n",
    "print(type(df3))\n",
    "\n",
    "# 切片：指定范围\n",
    "df4 = df1[:2]\n",
    "print(df4)\n",
    "\n",
    "# 切片：指定条件(列)\n",
    "df5 = df1[df1['cc'] > 3.3]\n",
    "print(df5)\n"
   ]
  },
  {
   "cell_type": "code",
   "execution_count": 11,
   "metadata": {},
   "outputs": [
    {
     "name": "stdout",
     "output_type": "stream",
     "text": [
      "       aa   bb    cc     dd\n",
      "one     1  1.1  1.11  1.111\n",
      "two     2  2.2  2.22  2.222\n",
      "three   3  3.3  3.33  3.333\n",
      "four    4  4.4  4.44  4.444\n",
      "one      1\n",
      "two      2\n",
      "three    3\n",
      "four     4\n",
      "Name: aa, dtype: int64\n",
      "<class 'pandas.core.series.Series'>\n",
      "one      1\n",
      "two      2\n",
      "three    3\n",
      "four     4\n",
      "Name: aa, dtype: int64\n",
      "True\n",
      "aa    2.000\n",
      "bb    2.200\n",
      "cc    2.220\n",
      "dd    2.222\n",
      "Name: two, dtype: float64\n",
      "<class 'pandas.core.series.Series'>\n"
     ]
    }
   ],
   "source": [
    "print(df1)\n",
    "# 取一列，得到Series\n",
    "sf1 = df1['aa']\n",
    "sf3 = df1.aa\n",
    "print(sf1)\n",
    "print(type(sf1))\n",
    "print(sf3)\n",
    "print(sf1 is sf3)\n",
    "\n",
    "# 取一行，得到Series\n",
    "sf2 = df1.loc['two']\n",
    "print(sf2)\n",
    "print(type(sf2))"
   ]
  },
  {
   "cell_type": "code",
   "execution_count": null,
   "metadata": {
    "collapsed": true
   },
   "outputs": [],
   "source": []
  }
 ],
 "metadata": {
  "kernelspec": {
   "display_name": "Python 3",
   "language": "python",
   "name": "python3"
  },
  "language_info": {
   "codemirror_mode": {
    "name": "ipython",
    "version": 3
   },
   "file_extension": ".py",
   "mimetype": "text/x-python",
   "name": "python",
   "nbconvert_exporter": "python",
   "pygments_lexer": "ipython3",
   "version": "3.6.3"
  }
 },
 "nbformat": 4,
 "nbformat_minor": 1
}
