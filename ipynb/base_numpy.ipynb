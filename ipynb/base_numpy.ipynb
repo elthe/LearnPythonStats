{
 "cells": [
  {
   "cell_type": "markdown",
   "metadata": {
    "collapsed": true
   },
   "source": [
    "# Numpy 基础操作"
   ]
  },
  {
   "cell_type": "markdown",
   "metadata": {
    "collapsed": true
   },
   "source": [
    "## 初始化"
   ]
  },
  {
   "cell_type": "code",
   "execution_count": 1,
   "metadata": {
    "collapsed": true
   },
   "outputs": [],
   "source": [
    "import numpy as np"
   ]
  },
  {
   "cell_type": "code",
   "execution_count": 2,
   "metadata": {},
   "outputs": [
    {
     "name": "stdout",
     "output_type": "stream",
     "text": [
      "[ 1.  1.  1.  1.  1.  1.  1.  1.  1.  1.]\n",
      "float64\n",
      "True\n",
      "[[1 1]\n",
      " [1 1]\n",
      " [1 1]]\n",
      "uint16\n",
      "True\n"
     ]
    }
   ],
   "source": [
    "# 全1数组, 默认类型float64\n",
    "a1 = np.ones(10)\n",
    "print(a1)\n",
    "print(a1.dtype)\n",
    "print(np.issubdtype(a1.dtype, np.floating))\n",
    "\n",
    "# 指定类型和形状shape\n",
    "a11 = np.ones((3, 2), dtype=np.uint16)\n",
    "print(a11)\n",
    "print(a11.dtype)\n",
    "print(np.issubdtype(a11.dtype, np.integer))\n"
   ]
  },
  {
   "cell_type": "code",
   "execution_count": 3,
   "metadata": {},
   "outputs": [
    {
     "name": "stdout",
     "output_type": "stream",
     "text": [
      "[ 0.  0.  0.  0.  0.  0.  0.  0.  0.  0.]\n",
      "float64\n",
      "True\n",
      "[[ -0.00000000e+000  -1.73060412e-077   6.94698383e-310   6.94698383e-310]\n",
      " [  6.94698383e-310   6.44110685e-314   0.00000000e+000   5.56268465e-309]]\n",
      "float64\n",
      "True\n"
     ]
    }
   ],
   "source": [
    "# 全0数组, 默认类型float64\n",
    "a0 = np.zeros(10)\n",
    "print(a0)\n",
    "print(a0.dtype)\n",
    "print(np.issubdtype(a0.dtype, np.floating))\n",
    "\n",
    "# 全空数组，只分配空间不填值(垃圾值)\n",
    "ae = np.empty((2, 4))\n",
    "print(ae)\n",
    "print(ae.dtype)\n",
    "print(np.issubdtype(ae.dtype, np.floating))"
   ]
  },
  {
   "cell_type": "code",
   "execution_count": 4,
   "metadata": {
    "scrolled": true
   },
   "outputs": [
    {
     "name": "stdout",
     "output_type": "stream",
     "text": [
      "[ 1.  1.  1.  1.  1.  1.  1.  1.  1.  1.]\n",
      "[ 0.  0.  0.  0.  0.  0.  0.  0.  0.  0.]\n",
      "[[    0     0]\n",
      " [    0 32768]\n",
      " [36052  8114]]\n"
     ]
    }
   ],
   "source": [
    "# 创建类似数组,类型和形状相同\n",
    "a12 = np.ones_like(a0)\n",
    "print(a12)\n",
    "a01 = np.zeros_like(a12)\n",
    "print(a01)\n",
    "ae1 = np.empty_like(a11)\n",
    "print(ae1)"
   ]
  },
  {
   "cell_type": "code",
   "execution_count": 5,
   "metadata": {},
   "outputs": [
    {
     "name": "stdout",
     "output_type": "stream",
     "text": [
      "[[ 1.  0.  0.  0.]\n",
      " [ 0.  1.  0.  0.]\n",
      " [ 0.  0.  1.  0.]\n",
      " [ 0.  0.  0.  1.]]\n",
      "[[1 0 0 0 0]\n",
      " [0 1 0 0 0]\n",
      " [0 0 1 0 0]\n",
      " [0 0 0 1 0]\n",
      " [0 0 0 0 1]]\n",
      "[[1 0 0 0 0]\n",
      " [0 1 0 0 0]\n",
      " [0 0 1 0 0]\n",
      " [0 0 0 1 0]\n",
      " [0 0 0 0 1]]\n"
     ]
    }
   ],
   "source": [
    "# 创建单位矩阵\n",
    "eye1 = np.eye(4)\n",
    "print(eye1)\n",
    "\n",
    "eye11 = np.eye(5, dtype=np.integer)\n",
    "print(eye11)\n",
    "\n",
    "eye12 = np.identity(5, dtype=np.integer)\n",
    "print(eye12)"
   ]
  },
  {
   "cell_type": "code",
   "execution_count": 6,
   "metadata": {},
   "outputs": [
    {
     "name": "stdout",
     "output_type": "stream",
     "text": [
      "[ 0  1  2  3  4  5  6  7  8  9 10 11 12 13 14 15]\n",
      "[[ 0  1  2  3]\n",
      " [ 4  5  6  7]\n",
      " [ 8  9 10 11]\n",
      " [12 13 14 15]]\n",
      "False\n"
     ]
    }
   ],
   "source": [
    "# 创建范围数组\n",
    "ar1 = np.arange(16)\n",
    "print(ar1)\n",
    "# 重塑形状，生成新的数组\n",
    "ar2 = ar1.reshape((4, 4))\n",
    "print(ar2)\n",
    "\n",
    "print(ar2 is ar1)"
   ]
  },
  {
   "cell_type": "code",
   "execution_count": 7,
   "metadata": {},
   "outputs": [
    {
     "name": "stdout",
     "output_type": "stream",
     "text": [
      "['a' 'b' 'c' 'd' 'e']\n",
      "['x' 'y' 'z']\n",
      "['s' 'k' 'v']\n",
      "[[1 2 3 4]\n",
      " [5 6 7 8]]\n"
     ]
    }
   ],
   "source": [
    "# 把输入数据转换为ndarray\n",
    "ar3 = np.array(list('abcde'))\n",
    "print(ar3)\n",
    "ar4 = np.array(tuple('xyz'))\n",
    "print(ar4)\n",
    "ar5 = np.array(list(set('kksvvsv')))\n",
    "print(ar5)\n",
    "ar6 = np.array([[1, 2, 3, 4],[5, 6, 7, 8]] )\n",
    "print(ar6)"
   ]
  },
  {
   "cell_type": "code",
   "execution_count": 8,
   "metadata": {},
   "outputs": [
    {
     "name": "stdout",
     "output_type": "stream",
     "text": [
      "[[-0.5453849   1.04752532 -0.8268316   0.97650687]\n",
      " [-0.12644768  0.30499767 -0.33368384  1.22744571]\n",
      " [ 1.50511947  0.95579921 -0.28165937  0.56369648]\n",
      " [-2.06404614  0.05631185  1.63792676 -0.31888119]\n",
      " [ 0.47666446  0.42454422 -1.50741419 -0.72016695]\n",
      " [ 1.03480432 -0.89137233 -1.28205474  1.31176921]\n",
      " [ 2.08180072 -2.27185009 -0.90094373  0.45605662]]\n"
     ]
    }
   ],
   "source": [
    "# 随机数组\n",
    "arx = np.random.randn(7, 4)\n",
    "print(arx)"
   ]
  },
  {
   "cell_type": "code",
   "execution_count": 9,
   "metadata": {},
   "outputs": [
    {
     "name": "stdout",
     "output_type": "stream",
     "text": [
      "[0 1 2]\n",
      "[0 0 0 1 1 1 2 2 2]\n"
     ]
    }
   ],
   "source": [
    "# 元素重复操作\n",
    "arr1 = np.arange(3)\n",
    "print(arr1)\n",
    "# \n",
    "arr2 = arr1.repeat(3)\n",
    "print(arr2)"
   ]
  },
  {
   "cell_type": "markdown",
   "metadata": {},
   "source": [
    "## 数组计算"
   ]
  },
  {
   "cell_type": "code",
   "execution_count": 10,
   "metadata": {},
   "outputs": [
    {
     "name": "stdout",
     "output_type": "stream",
     "text": [
      "[[1 2 3]\n",
      " [4 5 6]\n",
      " [7 8 9]]\n"
     ]
    }
   ],
   "source": [
    "ar7 = np.arange(1, 10).reshape((3,3))\n",
    "print(ar7)"
   ]
  },
  {
   "cell_type": "code",
   "execution_count": 11,
   "metadata": {},
   "outputs": [
    {
     "name": "stdout",
     "output_type": "stream",
     "text": [
      "[[ 1.          0.5         0.33333333]\n",
      " [ 0.25        0.2         0.16666667]\n",
      " [ 0.14285714  0.125       0.11111111]]\n"
     ]
    }
   ],
   "source": [
    "# 求倒数\n",
    "ar71 = 1 / ar7\n",
    "print(ar71)"
   ]
  },
  {
   "cell_type": "code",
   "execution_count": 12,
   "metadata": {},
   "outputs": [
    {
     "name": "stdout",
     "output_type": "stream",
     "text": [
      "[[ 1  4  9]\n",
      " [16 25 36]\n",
      " [49 64 81]]\n"
     ]
    }
   ],
   "source": [
    "# 数组相乘\n",
    "ar72 = ar7 * ar7\n",
    "print(ar72)"
   ]
  },
  {
   "cell_type": "code",
   "execution_count": 13,
   "metadata": {},
   "outputs": [
    {
     "name": "stdout",
     "output_type": "stream",
     "text": [
      "[[0 0 0]\n",
      " [0 0 0]\n",
      " [0 0 0]]\n"
     ]
    }
   ],
   "source": [
    "# 数组相减\n",
    "ar73 = ar7 - ar7\n",
    "print(ar73)"
   ]
  },
  {
   "cell_type": "code",
   "execution_count": 14,
   "metadata": {},
   "outputs": [
    {
     "name": "stdout",
     "output_type": "stream",
     "text": [
      "[[ 1  4  9]\n",
      " [16 25 36]\n",
      " [49 64 81]]\n"
     ]
    }
   ],
   "source": [
    "# 数组平方\n",
    "ar74 = ar7 ** 2\n",
    "print(ar74)"
   ]
  },
  {
   "cell_type": "code",
   "execution_count": 15,
   "metadata": {
    "scrolled": true
   },
   "outputs": [
    {
     "name": "stdout",
     "output_type": "stream",
     "text": [
      "[[ 1.  2.  3.]\n",
      " [ 4.  5.  6.]\n",
      " [ 7.  8.  9.]]\n"
     ]
    }
   ],
   "source": [
    "# 数组平方根\n",
    "ar75 = ar74 ** 0.5\n",
    "print(ar75)"
   ]
  },
  {
   "cell_type": "code",
   "execution_count": 16,
   "metadata": {},
   "outputs": [
    {
     "name": "stdout",
     "output_type": "stream",
     "text": [
      "[[ 15.  25.  35.]\n",
      " [ 45.  55.  65.]\n",
      " [ 75.  85.  95.]]\n"
     ]
    }
   ],
   "source": [
    "# 数组四则运算\n",
    "ar76 = (ar75 + 0.5) * 10\n",
    "print(ar76)"
   ]
  },
  {
   "cell_type": "markdown",
   "metadata": {},
   "source": [
    "## 数组索引"
   ]
  },
  {
   "cell_type": "code",
   "execution_count": 17,
   "metadata": {},
   "outputs": [
    {
     "name": "stdout",
     "output_type": "stream",
     "text": [
      "[[ 15.  25.  35.]\n",
      " [ 45.  55.  65.]\n",
      " [ 75.  85.  95.]]\n",
      "[ 15.  25.  35.]\n",
      "15.0\n",
      "55.0\n",
      "[[ 45.  55.  65.]\n",
      " [ 75.  85.  95.]]\n",
      "[[ 55.  65.]\n",
      " [ 85.  95.]]\n",
      "[[ 35.]\n",
      " [ 65.]\n",
      " [ 95.]]\n",
      "[ 15.  45.  75.]\n"
     ]
    }
   ],
   "source": [
    "print(ar76)\n",
    "# 第一行\n",
    "print(ar76[0])\n",
    "# 指定坐标\n",
    "print(ar76[0][0])\n",
    "print(ar76[1, 1])\n",
    "# 指定几行\n",
    "print(ar76[1:3])\n",
    "# 行列切片\n",
    "print(ar76[1:3, 1:3])\n",
    "# 只有冒号时，标识选择整个轴\n",
    "print(ar76[:, -1:])\n",
    "# 第一列\n",
    "print(ar76[:, 0])"
   ]
  },
  {
   "cell_type": "code",
   "execution_count": 18,
   "metadata": {},
   "outputs": [
    {
     "name": "stdout",
     "output_type": "stream",
     "text": [
      "[[  0.  25.   0.]\n",
      " [  0.  55.   0.]\n",
      " [  0.  85.   0.]]\n"
     ]
    }
   ],
   "source": [
    "# 把指定列，设置为固定值，修改自身\n",
    "ar77 = ar76.copy()\n",
    "ar77[:, (0,2)] = 0\n",
    "print(ar77)"
   ]
  },
  {
   "cell_type": "markdown",
   "metadata": {},
   "source": [
    "## 数组转置和轴对换"
   ]
  },
  {
   "cell_type": "code",
   "execution_count": 19,
   "metadata": {},
   "outputs": [
    {
     "name": "stdout",
     "output_type": "stream",
     "text": [
      "[[1 2 3]\n",
      " [4 5 6]\n",
      " [7 8 9]]\n",
      "[[1 4 7]\n",
      " [2 5 8]\n",
      " [3 6 9]]\n",
      "False\n"
     ]
    }
   ],
   "source": [
    "print(ar7)\n",
    "# 数组转置，行列切换（二维数组）,生成新数组\n",
    "ar78 = ar7.T\n",
    "print(ar78)\n",
    "print(ar78 is ar7)"
   ]
  },
  {
   "cell_type": "code",
   "execution_count": 20,
   "metadata": {
    "scrolled": false
   },
   "outputs": [
    {
     "name": "stdout",
     "output_type": "stream",
     "text": [
      "[[[ 0  1  2  3]\n",
      "  [ 4  5  6  7]]\n",
      "\n",
      " [[ 8  9 10 11]\n",
      "  [12 13 14 15]]]\n",
      "[[[ 0  1  2  3]\n",
      "  [ 8  9 10 11]]\n",
      "\n",
      " [[ 4  5  6  7]\n",
      "  [12 13 14 15]]]\n",
      "False\n",
      "[[[ 0  4]\n",
      "  [ 1  5]\n",
      "  [ 2  6]\n",
      "  [ 3  7]]\n",
      "\n",
      " [[ 8 12]\n",
      "  [ 9 13]\n",
      "  [10 14]\n",
      "  [11 15]]]\n",
      "False\n",
      "[ 0  1  2  3  4  5  6  7  8  9 10 11 12 13 14 15]\n",
      "[ 0  1  2  3  4  5  6  7  8  9 10 11 12 13 14 15]\n",
      "[ 0  8  4 12  1  9  5 13  2 10  6 14  3 11  7 15]\n",
      "[ 0  1  2  3  4  5  6  7  8  9 10 11 12 13 14 15]\n"
     ]
    }
   ],
   "source": [
    "# 轴切换，三维以上\n",
    "a9 = np.arange(16).reshape(2,2,4)\n",
    "print(a9)\n",
    "# 轴转置，生成新数组\n",
    "a91 = a9.transpose((1, 0, 2))\n",
    "print(a91)\n",
    "print(a91 is a9)\n",
    "\n",
    "# 轴对换，生成新数组\n",
    "a92 = a9.swapaxes(1,2)\n",
    "print(a92)\n",
    "print(a92 is a9)\n",
    "\n",
    "# 扁平化，多维变1维\n",
    "a93 = a9.ravel()\n",
    "print(a93)\n",
    "a94 = a9.flatten()\n",
    "print(a94)\n",
    "\n",
    "# C顺序：行优先、F顺序：列优先。\n",
    "a95 = a9.ravel('F')\n",
    "print(a95)\n",
    "a96 = a9.ravel('C')\n",
    "print(a96)"
   ]
  },
  {
   "cell_type": "markdown",
   "metadata": {},
   "source": [
    "## 双冒号操作"
   ]
  },
  {
   "cell_type": "code",
   "execution_count": 21,
   "metadata": {
    "scrolled": false
   },
   "outputs": [
    {
     "name": "stdout",
     "output_type": "stream",
     "text": [
      "[ 0  1  2  3  4  5  6  7  8  9 10 11 12 13 14 15]\n",
      "[15 14 13 12 11 10  9  8  7  6  5  4  3  2  1  0]\n",
      "[14 12 10  8  6  4  2  0]\n",
      "[15 13 11  9  7  5  3  1]\n",
      "[14 11  8  5  2]\n",
      "[15 12  9  6  3  0]\n"
     ]
    }
   ],
   "source": [
    "print(a96)\n",
    "# 反转操作：生成新的数组\n",
    "a97 = a96[::-1]\n",
    "print(a97)\n",
    "\n",
    "# 跳格操作：从第N个开始，每隔几个取一个\n",
    "a98 = a97[1::2]\n",
    "print(a98)\n",
    "\n",
    "# 从0开始，间隔2\n",
    "a99 = a97[::2]\n",
    "print(a99)\n",
    "\n",
    "# 从1开始，间隔3\n",
    "a100 = a97[1::3]\n",
    "print(a100)\n",
    "\n",
    "# 从0开始，间隔3\n",
    "a101 = a97[::3]\n",
    "print(a101)"
   ]
  }
 ],
 "metadata": {
  "kernelspec": {
   "display_name": "Python 3",
   "language": "python",
   "name": "python3"
  },
  "language_info": {
   "codemirror_mode": {
    "name": "ipython",
    "version": 3
   },
   "file_extension": ".py",
   "mimetype": "text/x-python",
   "name": "python",
   "nbconvert_exporter": "python",
   "pygments_lexer": "ipython3",
   "version": "3.6.3"
  }
 },
 "nbformat": 4,
 "nbformat_minor": 1
}
